{
 "cells": [
  {
   "cell_type": "code",
   "execution_count": 1,
   "metadata": {},
   "outputs": [],
   "source": [
    "import illustris_python as il"
   ]
  },
  {
   "cell_type": "code",
   "execution_count": 2,
   "metadata": {},
   "outputs": [],
   "source": [
    "import numpy as np"
   ]
  },
  {
   "cell_type": "code",
   "execution_count": 5,
   "metadata": {},
   "outputs": [],
   "source": [
    "import requests"
   ]
  },
  {
   "cell_type": "code",
   "execution_count": 6,
   "metadata": {},
   "outputs": [],
   "source": [
    "baseUrl = \"https://www.tng-project.org/api/\""
   ]
  },
  {
   "cell_type": "code",
   "execution_count": 7,
   "metadata": {},
   "outputs": [],
   "source": [
    "headers = {\"api-key\":\"5484c6c24f106178fd66213717ad592d\"}"
   ]
  },
  {
   "cell_type": "code",
   "execution_count": 44,
   "metadata": {},
   "outputs": [],
   "source": [
    "def get(path,params=None):\n",
    "    r = requests.get(path,params=params,headers=headers)\n",
    "\n",
    "    r.raise_for_status()\n",
    "\n",
    "    if r.headers['content-type']=='application/json':\n",
    "        return r.json()\n",
    "\n",
    "    if 'content-disposition' in r.headers:\n",
    "        filename = r.headers['content-disposition'].split('filename=')[1]\n",
    "        with open(filename,'wb') as f:\n",
    "            f.write(r.content)\n",
    "        return filename\n",
    "    return r"
   ]
  },
  {
   "cell_type": "code",
   "execution_count": 9,
   "metadata": {},
   "outputs": [],
   "source": [
    "r = get(baseUrl)"
   ]
  },
  {
   "cell_type": "code",
   "execution_count": 10,
   "metadata": {},
   "outputs": [
    {
     "data": {
      "text/plain": [
       "dict_keys(['simulations'])"
      ]
     },
     "execution_count": 10,
     "metadata": {},
     "output_type": "execute_result"
    }
   ],
   "source": [
    "r.keys()"
   ]
  },
  {
   "cell_type": "code",
   "execution_count": 11,
   "metadata": {},
   "outputs": [
    {
     "data": {
      "text/plain": [
       "65"
      ]
     },
     "execution_count": 11,
     "metadata": {},
     "output_type": "execute_result"
    }
   ],
   "source": [
    "len(r['simulations'])"
   ]
  },
  {
   "cell_type": "code",
   "execution_count": 12,
   "metadata": {},
   "outputs": [
    {
     "data": {
      "text/plain": [
       "{'name': 'Illustris-1',\n",
       " 'num_snapshots': 134,\n",
       " 'url': 'http://www.tng-project.org/api/Illustris-1/'}"
      ]
     },
     "execution_count": 12,
     "metadata": {},
     "output_type": "execute_result"
    }
   ],
   "source": [
    "r['simulations'][0]"
   ]
  },
  {
   "cell_type": "code",
   "execution_count": 13,
   "metadata": {},
   "outputs": [],
   "source": [
    "names = [sim['name'] for sim in r['simulations']]"
   ]
  },
  {
   "cell_type": "code",
   "execution_count": 14,
   "metadata": {},
   "outputs": [
    {
     "data": {
      "text/plain": [
       "['Illustris-1',\n",
       " 'Illustris-1-Dark',\n",
       " 'Illustris-2',\n",
       " 'Illustris-2-Dark',\n",
       " 'Illustris-3',\n",
       " 'Illustris-3-Dark',\n",
       " 'TNG100-1',\n",
       " 'TNG100-1-Dark',\n",
       " 'TNG100-2',\n",
       " 'TNG100-2-Dark',\n",
       " 'TNG100-3',\n",
       " 'TNG100-3-Dark',\n",
       " 'TNG300-3',\n",
       " 'TNG300-2-Dark',\n",
       " 'TNG300-2',\n",
       " 'TNG300-1-Dark',\n",
       " 'TNG300-1',\n",
       " 'TNG300-3-Dark',\n",
       " 'TNG50-1',\n",
       " 'TNG50-1-Dark',\n",
       " 'TNG50-2',\n",
       " 'TNG50-2-Dark',\n",
       " 'TNG50-3',\n",
       " 'TNG50-3-Dark',\n",
       " 'TNG50-4',\n",
       " 'TNG50-4-Dark',\n",
       " 'Illustris-1-Subbox0',\n",
       " 'Illustris-1-Subbox1',\n",
       " 'Illustris-1-Subbox2',\n",
       " 'Illustris-1-Subbox3',\n",
       " 'Illustris-2-Subbox0',\n",
       " 'Illustris-2-Subbox1',\n",
       " 'Illustris-2-Subbox2',\n",
       " 'Illustris-2-Subbox3',\n",
       " 'Illustris-3-Subbox0',\n",
       " 'Illustris-3-Subbox1',\n",
       " 'Illustris-3-Subbox2',\n",
       " 'Illustris-3-Subbox3',\n",
       " 'TNG100-1-Subbox0',\n",
       " 'TNG100-1-Subbox1',\n",
       " 'TNG100-2-Subbox0',\n",
       " 'TNG100-2-Subbox1',\n",
       " 'TNG100-3-Subbox0',\n",
       " 'TNG100-3-Subbox1',\n",
       " 'TNG300-3-Subbox1',\n",
       " 'TNG300-3-Subbox2',\n",
       " 'TNG300-3-Subbox0',\n",
       " 'TNG300-2-Subbox1',\n",
       " 'TNG300-2-Subbox2',\n",
       " 'TNG300-2-Subbox0',\n",
       " 'TNG300-1-Subbox1',\n",
       " 'TNG300-1-Subbox2',\n",
       " 'TNG300-1-Subbox0',\n",
       " 'TNG50-1-Subbox0',\n",
       " 'TNG50-1-Subbox2',\n",
       " 'TNG50-1-Subbox1',\n",
       " 'TNG50-2-Subbox0',\n",
       " 'TNG50-2-Subbox2',\n",
       " 'TNG50-2-Subbox1',\n",
       " 'TNG50-3-Subbox0',\n",
       " 'TNG50-3-Subbox2',\n",
       " 'TNG50-3-Subbox1',\n",
       " 'TNG50-4-Subbox0',\n",
       " 'TNG50-4-Subbox2',\n",
       " 'TNG50-4-Subbox1']"
      ]
     },
     "execution_count": 14,
     "metadata": {},
     "output_type": "execute_result"
    }
   ],
   "source": [
    "names"
   ]
  },
  {
   "cell_type": "code",
   "execution_count": 15,
   "metadata": {},
   "outputs": [
    {
     "data": {
      "text/plain": [
       "6"
      ]
     },
     "execution_count": 15,
     "metadata": {},
     "output_type": "execute_result"
    }
   ],
   "source": [
    "i = names.index('TNG100-1')\n",
    "i"
   ]
  },
  {
   "cell_type": "code",
   "execution_count": 16,
   "metadata": {},
   "outputs": [
    {
     "data": {
      "text/plain": [
       "dict_keys(['name', 'description', 'name_alt', 'boxsize', 'z_start', 'z_final', 'cosmology', 'omega_0', 'omega_L', 'omega_B', 'hubble', 'physics_model', 'has_cooling', 'has_starformation', 'has_winds', 'has_blackholes', 'mass_gas', 'mass_dm', 'softening_dm_comoving', 'softening_stars_comoving', 'softening_blackholes_comoving', 'softening_gas_comoving', 'softening_dm_max_phys', 'softening_stars_max_phys', 'softening_blackholes_max_phys', 'softening_gas_max_phys', 'softening_gas_factor', 'softening_gas_comoving_min', 'num_dm', 'num_tr_mc', 'num_tr_vel', 'longids', 'is_uniform', 'is_zoom', 'is_subbox', 'num_files_snapshot', 'num_files_groupcat', 'num_files_rockstar', 'num_files_lhalotree', 'num_files_sublink', 'num_files_ctrees', 'filesize_lhalotree', 'filesize_sublink', 'filesize_ctrees', 'filesize_ics', 'filesize_simulation', 'has_fof', 'has_subfind', 'has_rockstar', 'has_lhalotree', 'has_sublink', 'has_ctrees', 'permission_required', 'num_snapshots', 'url', 'parent_simulation', 'child_simulations', 'files', 'checksums', 'snapshots'])"
      ]
     },
     "execution_count": 16,
     "metadata": {},
     "output_type": "execute_result"
    }
   ],
   "source": [
    "sim = get(r['simulations'][i]['url'])\n",
    "sim.keys()"
   ]
  },
  {
   "cell_type": "code",
   "execution_count": 17,
   "metadata": {},
   "outputs": [
    {
     "data": {
      "text/plain": [
       "6028568000"
      ]
     },
     "execution_count": 17,
     "metadata": {},
     "output_type": "execute_result"
    }
   ],
   "source": [
    "sim[\"num_dm\"]"
   ]
  },
  {
   "cell_type": "code",
   "execution_count": 18,
   "metadata": {},
   "outputs": [
    {
     "data": {
      "text/plain": [
       "'http://www.tng-project.org/api/TNG100-1/snapshots/'"
      ]
     },
     "execution_count": 18,
     "metadata": {},
     "output_type": "execute_result"
    }
   ],
   "source": [
    "sim['snapshots']"
   ]
  },
  {
   "cell_type": "code",
   "execution_count": 19,
   "metadata": {},
   "outputs": [],
   "source": [
    "snaps = get(sim['snapshots'])"
   ]
  },
  {
   "cell_type": "code",
   "execution_count": 20,
   "metadata": {},
   "outputs": [
    {
     "data": {
      "text/plain": [
       "100"
      ]
     },
     "execution_count": 20,
     "metadata": {},
     "output_type": "execute_result"
    }
   ],
   "source": [
    "len(snaps)"
   ]
  },
  {
   "cell_type": "code",
   "execution_count": 21,
   "metadata": {},
   "outputs": [
    {
     "data": {
      "text/plain": [
       "{'number': 99,\n",
       " 'redshift': 2.22044604925031e-16,\n",
       " 'num_groups_subfind': 4371211,\n",
       " 'url': 'http://www.tng-project.org/api/TNG100-1/snapshots/99/'}"
      ]
     },
     "execution_count": 21,
     "metadata": {},
     "output_type": "execute_result"
    }
   ],
   "source": [
    "snaps[-1]"
   ]
  },
  {
   "cell_type": "code",
   "execution_count": 22,
   "metadata": {},
   "outputs": [
    {
     "data": {
      "text/plain": [
       "{'simulation': 'http://www.tng-project.org/api/TNG100-1/',\n",
       " 'number': 99,\n",
       " 'redshift': 2.22044604925031e-16,\n",
       " 'num_gas': 5453610043,\n",
       " 'num_dm': 6028568000,\n",
       " 'num_trmc': 12057136000,\n",
       " 'num_stars': 453723346,\n",
       " 'num_bhs': 37053,\n",
       " 'num_groups_fof': 6291349,\n",
       " 'num_groups_subfind': 4371211,\n",
       " 'num_groups_rockstar': 0,\n",
       " 'filesize_snapshot': 1852107755772.0,\n",
       " 'filesize_groupcat': 4446214808.0,\n",
       " 'filesize_rockstar': 0.0,\n",
       " 'url': 'http://www.tng-project.org/api/TNG100-1/snapshots/99/',\n",
       " 'subhalos': 'http://www.tng-project.org/api/TNG100-1/snapshots/99/subhalos/',\n",
       " 'vis': {'groupcat_sfms': 'http://www.tng-project.org/api/TNG100-1/snapshots/99/subhalos/plot.png?xQuant=mstar2_log&yQuant=ssfr&xlim=9.0%2C11.0',\n",
       "  'groupcat_sizemass': 'http://www.tng-project.org/api/TNG100-1/snapshots/99/subhalos/plot.png?xQuant=mstar2_log&yQuant=size_stars',\n",
       "  'groupcat_mz_gas': 'http://www.tng-project.org/api/TNG100-1/snapshots/99/subhalos/plot.png?xQuant=mstar2_log&yQuant=Z_gas',\n",
       "  'groupcat_mz_stars': 'http://www.tng-project.org/api/TNG100-1/snapshots/99/subhalos/plot.png?xQuant=mstar2_log&yQuant=Z_stars',\n",
       "  'groupcat_mstar_mhalo': 'http://www.tng-project.org/api/TNG100-1/snapshots/99/subhalos/plot.png?xQuant=mhalo_200_log&yQuant=mstar2_log',\n",
       "  'groupcat_smhm': 'http://www.tng-project.org/api/TNG100-1/snapshots/99/subhalos/plot.png?xQuant=mhalo_200_log&yQuant=mstar2_mhalo200_ratio&xlim=10.0%2C14.5',\n",
       "  'groupcat_halo_sizemass': 'http://www.tng-project.org/api/TNG100-1/snapshots/99/subhalos/plot.png?xQuant=mhalo_200_log&yQuant=rhalo_200&xlim=9.0%2C15.0',\n",
       "  'groupcat_fmr': 'http://www.tng-project.org/api/TNG100-1/snapshots/99/subhalos/plot.png?xQuant=mstar2_log&yQuant=delta_sfms&cQuant=Z_gas&xlim=8.5%2C11.0&ylim=-1.5%2C1.5&cRel=0.7%2C1.3'},\n",
       " 'files': {'snapshot': 'http://www.tng-project.org/api/TNG100-1/files/snapshot-99/',\n",
       "  'groupcat': 'http://www.tng-project.org/api/TNG100-1/files/groupcat-99/'}}"
      ]
     },
     "execution_count": 22,
     "metadata": {},
     "output_type": "execute_result"
    }
   ],
   "source": [
    "snap = get(snaps[-1]['url'])\n",
    "\n",
    "snap"
   ]
  },
  {
   "cell_type": "code",
   "execution_count": 23,
   "metadata": {},
   "outputs": [],
   "source": [
    "subs = get(snap['subhalos'])"
   ]
  },
  {
   "cell_type": "code",
   "execution_count": 25,
   "metadata": {},
   "outputs": [
    {
     "data": {
      "text/plain": [
       "dict_keys(['count', 'next', 'previous', 'results'])"
      ]
     },
     "execution_count": 25,
     "metadata": {},
     "output_type": "execute_result"
    }
   ],
   "source": [
    "subs.keys()"
   ]
  },
  {
   "cell_type": "code",
   "execution_count": 26,
   "metadata": {},
   "outputs": [
    {
     "data": {
      "text/plain": [
       "4371211"
      ]
     },
     "execution_count": 26,
     "metadata": {},
     "output_type": "execute_result"
    }
   ],
   "source": [
    "subs['count']"
   ]
  },
  {
   "cell_type": "code",
   "execution_count": 30,
   "metadata": {},
   "outputs": [
    {
     "data": {
      "text/plain": [
       "200"
      ]
     },
     "execution_count": 30,
     "metadata": {},
     "output_type": "execute_result"
    }
   ],
   "source": [
    "subs = get(snap['subhalos'],{'limit':200})\n",
    "len(subs['results'])"
   ]
  },
  {
   "cell_type": "code",
   "execution_count": 31,
   "metadata": {},
   "outputs": [
    {
     "data": {
      "text/plain": [
       "{'id': 198,\n",
       " 'sfr': 0.169707,\n",
       " 'mass_log_msun': 10.813072128034076,\n",
       " 'url': 'http://www.tng-project.org/api/TNG100-1/snapshots/99/subhalos/198/'}"
      ]
     },
     "execution_count": 31,
     "metadata": {},
     "output_type": "execute_result"
    }
   ],
   "source": [
    "subs['results'][-2]"
   ]
  },
  {
   "cell_type": "code",
   "execution_count": 32,
   "metadata": {},
   "outputs": [],
   "source": [
    "sub = get(subs['results'][-2]['url'])"
   ]
  },
  {
   "cell_type": "code",
   "execution_count": 33,
   "metadata": {},
   "outputs": [
    {
     "data": {
      "text/plain": [
       "{'snap': 99,\n",
       " 'id': 198,\n",
       " 'bhmdot': 1.10071e-05,\n",
       " 'cm_x': 1646.42,\n",
       " 'cm_y': 26141.4,\n",
       " 'cm_z': 18387.8,\n",
       " 'gasmetallicity': 0.00995366,\n",
       " 'gasmetallicityhalfrad': 0.0114245,\n",
       " 'gasmetallicitymaxrad': 0.00415671,\n",
       " 'gasmetallicitysfr': 0.00920035,\n",
       " 'gasmetallicitysfrweighted': 0.0106624,\n",
       " 'pos_x': 1646.01,\n",
       " 'pos_y': 26143.0,\n",
       " 'pos_z': 18387.6,\n",
       " 'halfmassrad': 21.3035,\n",
       " 'halfmassrad_gas': 4.5932,\n",
       " 'halfmassrad_dm': 21.9658,\n",
       " 'halfmassrad_stars': 0.658,\n",
       " 'halfmassrad_bhs': 0.0,\n",
       " 'len': 9715,\n",
       " 'len_gas': 881,\n",
       " 'len_dm': 8466,\n",
       " 'len_stars': 367,\n",
       " 'len_bhs': 1,\n",
       " 'mass': 4.40471,\n",
       " 'mass_gas': 0.099653,\n",
       " 'mass_dm': 4.28019,\n",
       " 'mass_stars': 0.024722,\n",
       " 'mass_bhs': 0.000144,\n",
       " 'massinhalfrad': 0.041025,\n",
       " 'massinhalfrad_gas': 0.008837,\n",
       " 'massinhalfrad_dm': 0.019717,\n",
       " 'massinhalfrad_stars': 0.012327,\n",
       " 'massinhalfrad_bhs': 0.000144,\n",
       " 'massinmaxrad': 1.26482,\n",
       " 'massinmaxrad_gas': 0.080948,\n",
       " 'massinmaxrad_dm': 1.15928,\n",
       " 'massinmaxrad_stars': 0.024442,\n",
       " 'massinmaxrad_bhs': 0.000144,\n",
       " 'massinrad': 0.112646,\n",
       " 'massinrad_gas': 0.01851,\n",
       " 'massinrad_dm': 0.075836,\n",
       " 'massinrad_stars': 0.018156,\n",
       " 'massinrad_bhs': 0.000144,\n",
       " 'sfr': 0.169707,\n",
       " 'sfrinhalfrad': 0.10717,\n",
       " 'sfrinmaxrad': 0.169707,\n",
       " 'sfrinrad': 0.153461,\n",
       " 'spin_x': -123.946,\n",
       " 'spin_y': -24.4583,\n",
       " 'spin_z': -224.706,\n",
       " 'starmetallicity': 0.00822017,\n",
       " 'starmetallicityhalfrad': 0.00951096,\n",
       " 'starmetallicitymaxrad': 0.00656389,\n",
       " 'stellarphotometrics_u': -17.5389,\n",
       " 'stellarphotometrics_b': -17.3699,\n",
       " 'stellarphotometrics_v': -17.6642,\n",
       " 'stellarphotometrics_k': -19.618,\n",
       " 'stellarphotometrics_g': -17.6159,\n",
       " 'stellarphotometrics_r': -17.8047,\n",
       " 'stellarphotometrics_i': -17.9209,\n",
       " 'stellarphotometrics_z': -18.0126,\n",
       " 'stellarphotometricsmassinrad': 0.016346,\n",
       " 'stellarphotometricsrad': 0.7922,\n",
       " 'vel_x': -198.031,\n",
       " 'vel_y': -740.936,\n",
       " 'vel_z': -1380.05,\n",
       " 'veldisp': 39.4096,\n",
       " 'vmax': 69.6991,\n",
       " 'vmaxrad': 11.2048,\n",
       " 'windmass': 0.0,\n",
       " 'prog_snap': 98,\n",
       " 'prog_sfid': 203,\n",
       " 'desc_snap': -1,\n",
       " 'desc_sfid': -1,\n",
       " 'parent': 0,\n",
       " 'grnr': 0,\n",
       " 'primary_flag': 0,\n",
       " 'mass_log_msun': 10.813072128034076,\n",
       " 'related': {'sublink_progenitor': 'http://www.tng-project.org/api/TNG100-1/snapshots/98/subhalos/203/',\n",
       "  'sublink_descendant': None,\n",
       "  'parent_halo': 'http://www.tng-project.org/api/TNG100-1/snapshots/99/halos/0/'},\n",
       " 'cutouts': {'subhalo': 'http://www.tng-project.org/api/TNG100-1/snapshots/99/subhalos/198/cutout.hdf5',\n",
       "  'parent_halo': 'http://www.tng-project.org/api/TNG100-1/snapshots/99/halos/0/cutout.hdf5'},\n",
       " 'trees': {'sublink': 'http://www.tng-project.org/api/TNG100-1/snapshots/99/subhalos/198/sublink/full.hdf5',\n",
       "  'sublink_mpb': 'http://www.tng-project.org/api/TNG100-1/snapshots/99/subhalos/198/sublink/mpb.hdf5',\n",
       "  'sublink_mdb': 'http://www.tng-project.org/api/TNG100-1/snapshots/99/subhalos/198/sublink/mdb.hdf5',\n",
       "  'sublink_simple': 'http://www.tng-project.org/api/TNG100-1/snapshots/99/subhalos/198/sublink/simple.json',\n",
       "  'lhalotree': 'http://www.tng-project.org/api/TNG100-1/snapshots/99/subhalos/198/lhalotree/full.hdf5',\n",
       "  'lhalotree_mpb': 'http://www.tng-project.org/api/TNG100-1/snapshots/99/subhalos/198/lhalotree/mpb.hdf5'},\n",
       " 'supplementary_data': {'tracer_tracks': {'TracerIDs': 'http://www.tng-project.org/api/TNG100-1/snapshots/99/subhalos/198/cutout.hdf5?tracer_tracks=TracerIDs',\n",
       "   'ParentIDs': 'http://www.tng-project.org/api/TNG100-1/snapshots/99/subhalos/198/cutout.hdf5?tracer_tracks=ParentIDs',\n",
       "   'parent_indextype': 'http://www.tng-project.org/api/TNG100-1/snapshots/99/subhalos/198/cutout.hdf5?tracer_tracks=parent_indextype',\n",
       "   'subhalo_id': 'http://www.tng-project.org/api/TNG100-1/snapshots/99/subhalos/198/cutout.hdf5?tracer_tracks=subhalo_id',\n",
       "   'angmom': 'http://www.tng-project.org/api/TNG100-1/snapshots/99/subhalos/198/cutout.hdf5?tracer_tracks=angmom',\n",
       "   'entr': 'http://www.tng-project.org/api/TNG100-1/snapshots/99/subhalos/198/cutout.hdf5?tracer_tracks=entr',\n",
       "   'pos': 'http://www.tng-project.org/api/TNG100-1/snapshots/99/subhalos/198/cutout.hdf5?tracer_tracks=pos',\n",
       "   'rad_rvir': 'http://www.tng-project.org/api/TNG100-1/snapshots/99/subhalos/198/cutout.hdf5?tracer_tracks=rad_rvir',\n",
       "   'sfr': 'http://www.tng-project.org/api/TNG100-1/snapshots/99/subhalos/198/cutout.hdf5?tracer_tracks=sfr',\n",
       "   'temp': 'http://www.tng-project.org/api/TNG100-1/snapshots/99/subhalos/198/cutout.hdf5?tracer_tracks=temp',\n",
       "   'vel': 'http://www.tng-project.org/api/TNG100-1/snapshots/99/subhalos/198/cutout.hdf5?tracer_tracks=vel'}},\n",
       " 'vis': {'mergertree_sublink': 'http://www.tng-project.org/api/TNG100-1/snapshots/99/subhalos/198/sublink/tree.png',\n",
       "  'halo_gas_dens': 'http://www.tng-project.org/api/TNG100-1/snapshots/99/subhalos/198/vis.png?partType=gas',\n",
       "  'halo_gas_temp': 'http://www.tng-project.org/api/TNG100-1/snapshots/99/subhalos/198/vis.png?partType=gas&partField=temp',\n",
       "  'halo_dm_dens': 'http://www.tng-project.org/api/TNG100-1/snapshots/99/subhalos/198/vis.png?partType=dm',\n",
       "  'halo_stellar_dens': 'http://www.tng-project.org/api/TNG100-1/snapshots/99/subhalos/198/vis.png?partType=stars',\n",
       "  'galaxy_gas_dens': 'http://www.tng-project.org/api/TNG100-1/snapshots/99/subhalos/198/vis.png?partType=gas&size=5.0&sizeType=rHalfMassStars',\n",
       "  'galaxy_gas_dens_faceon': 'http://www.tng-project.org/api/TNG100-1/snapshots/99/subhalos/198/vis.png?partType=gas&size=5.0&sizeType=rHalfMassStars&rotation=face-on',\n",
       "  'galaxy_stellar_light': 'http://www.tng-project.org/api/TNG100-1/snapshots/99/subhalos/198/vis.png?partType=stars&partField=stellarComp-jwst_f200w-jwst_f115w-jwst_f070w&size=5.0&sizeType=rHalfMassStars',\n",
       "  'galaxy_stellar_light_faceon': 'http://www.tng-project.org/api/TNG100-1/snapshots/99/subhalos/198/vis.png?partType=stars&partField=stellarComp-jwst_f200w-jwst_f115w-jwst_f070w&size=5.0&sizeType=rHalfMassStars&rotation=face-on'},\n",
       " 'meta': {'url': 'http://www.tng-project.org/api/TNG100-1/snapshots/99/subhalos/198/',\n",
       "  'snapshot': 'http://www.tng-project.org/api/TNG100-1/snapshots/99/',\n",
       "  'simulation': 'http://www.tng-project.org/api/TNG100-1/',\n",
       "  'info': 'http://www.tng-project.org/api/TNG100-1/snapshots/99/subhalos/198/info.json'}}"
      ]
     },
     "execution_count": 33,
     "metadata": {},
     "output_type": "execute_result"
    }
   ],
   "source": [
    "sub"
   ]
  },
  {
   "cell_type": "code",
   "execution_count": 34,
   "metadata": {},
   "outputs": [],
   "source": [
    "subs = get(snap['subhalos'],{'limit':20,'order_by':\"-mass_stars\"})"
   ]
  },
  {
   "cell_type": "code",
   "execution_count": 35,
   "metadata": {},
   "outputs": [
    {
     "data": {
      "text/plain": [
       "20"
      ]
     },
     "execution_count": 35,
     "metadata": {},
     "output_type": "execute_result"
    }
   ],
   "source": [
    "len(subs['results'])"
   ]
  },
  {
   "cell_type": "code",
   "execution_count": 36,
   "metadata": {},
   "outputs": [
    {
     "data": {
      "text/plain": [
       "[0, 31342, 17185, 69507, 83280]"
      ]
     },
     "execution_count": 36,
     "metadata": {},
     "output_type": "execute_result"
    }
   ],
   "source": [
    "[subs['results'][i]['id'] for i in range(5)]"
   ]
  },
  {
   "cell_type": "code",
   "execution_count": 37,
   "metadata": {},
   "outputs": [],
   "source": [
    "sub = get(subs['results'][1]['url'])"
   ]
  },
  {
   "cell_type": "code",
   "execution_count": 38,
   "metadata": {},
   "outputs": [
    {
     "data": {
      "text/plain": [
       "{'snap': 99,\n",
       " 'id': 31342,\n",
       " 'bhmdot': 0.000372323,\n",
       " 'cm_x': 10990.5,\n",
       " 'cm_y': 50821.3,\n",
       " 'cm_z': 47615.9,\n",
       " 'gasmetallicity': 0.0057079,\n",
       " 'gasmetallicityhalfrad': 0.00606772,\n",
       " 'gasmetallicitymaxrad': 0.00415039,\n",
       " 'gasmetallicitysfr': 0.0122573,\n",
       " 'gasmetallicitysfrweighted': 0.0124803,\n",
       " 'pos_x': 10900.2,\n",
       " 'pos_y': 50857.9,\n",
       " 'pos_z': 47590.4,\n",
       " 'halfmassrad': 520.023,\n",
       " 'halfmassrad_gas': 537.616,\n",
       " 'halfmassrad_dm': 520.114,\n",
       " 'halfmassrad_stars': 58.3731,\n",
       " 'halfmassrad_bhs': 0.0,\n",
       " 'len': 74949167,\n",
       " 'len_gas': 32956555,\n",
       " 'len_dm': 38977315,\n",
       " 'len_stars': 3015291,\n",
       " 'len_bhs': 6,\n",
       " 'mass': 23211.3,\n",
       " 'mass_gas': 3312.6,\n",
       " 'mass_dm': 19705.9,\n",
       " 'mass_stars': 191.961,\n",
       " 'mass_bhs': 0.839029,\n",
       " 'massinhalfrad': 678.463,\n",
       " 'massinhalfrad_gas': 17.5206,\n",
       " 'massinhalfrad_dm': 564.123,\n",
       " 'massinhalfrad_stars': 95.9805,\n",
       " 'massinhalfrad_bhs': 0.838334,\n",
       " 'massinmaxrad': 13940.5,\n",
       " 'massinmaxrad_gas': 1999.19,\n",
       " 'massinmaxrad_dm': 11761.7,\n",
       " 'massinmaxrad_stars': 178.749,\n",
       " 'massinmaxrad_bhs': 0.83874,\n",
       " 'massinrad': 1799.44,\n",
       " 'massinrad_gas': 99.7427,\n",
       " 'massinrad_dm': 1574.6,\n",
       " 'massinrad_stars': 124.256,\n",
       " 'massinrad_bhs': 0.838334,\n",
       " 'sfr': 2.47252,\n",
       " 'sfrinhalfrad': 1.46397,\n",
       " 'sfrinmaxrad': 2.46979,\n",
       " 'sfrinrad': 1.53053,\n",
       " 'spin_x': 12076.0,\n",
       " 'spin_y': -6578.59,\n",
       " 'spin_z': -58353.5,\n",
       " 'starmetallicity': 0.0220852,\n",
       " 'starmetallicityhalfrad': 0.0245861,\n",
       " 'starmetallicitymaxrad': 0.0181464,\n",
       " 'stellarphotometrics_u': -23.8574,\n",
       " 'stellarphotometrics_b': -24.2232,\n",
       " 'stellarphotometrics_v': -25.0577,\n",
       " 'stellarphotometrics_k': -27.9359,\n",
       " 'stellarphotometrics_g': -24.6655,\n",
       " 'stellarphotometrics_r': -25.39,\n",
       " 'stellarphotometrics_i': -25.7382,\n",
       " 'stellarphotometrics_z': -25.9853,\n",
       " 'stellarphotometricsmassinrad': 80.1719,\n",
       " 'stellarphotometricsrad': 30.4222,\n",
       " 'vel_x': 284.057,\n",
       " 'vel_y': -101.15,\n",
       " 'vel_z': 79.4375,\n",
       " 'veldisp': 567.029,\n",
       " 'vmax': 983.836,\n",
       " 'vmaxrad': 619.571,\n",
       " 'windmass': 0.007623,\n",
       " 'prog_snap': 98,\n",
       " 'prog_sfid': 31158,\n",
       " 'desc_snap': -1,\n",
       " 'desc_sfid': -1,\n",
       " 'parent': 0,\n",
       " 'grnr': 2,\n",
       " 'primary_flag': 1,\n",
       " 'mass_log_msun': 14.534854272447859,\n",
       " 'related': {'sublink_progenitor': 'http://www.tng-project.org/api/TNG100-1/snapshots/98/subhalos/31158/',\n",
       "  'sublink_descendant': None,\n",
       "  'parent_halo': 'http://www.tng-project.org/api/TNG100-1/snapshots/99/halos/2/'},\n",
       " 'cutouts': {'subhalo': 'http://www.tng-project.org/api/TNG100-1/snapshots/99/subhalos/31342/cutout.hdf5',\n",
       "  'parent_halo': 'http://www.tng-project.org/api/TNG100-1/snapshots/99/halos/2/cutout.hdf5'},\n",
       " 'trees': {'sublink': 'http://www.tng-project.org/api/TNG100-1/snapshots/99/subhalos/31342/sublink/full.hdf5',\n",
       "  'sublink_mpb': 'http://www.tng-project.org/api/TNG100-1/snapshots/99/subhalos/31342/sublink/mpb.hdf5',\n",
       "  'sublink_mdb': 'http://www.tng-project.org/api/TNG100-1/snapshots/99/subhalos/31342/sublink/mdb.hdf5',\n",
       "  'sublink_simple': 'http://www.tng-project.org/api/TNG100-1/snapshots/99/subhalos/31342/sublink/simple.json',\n",
       "  'lhalotree': 'http://www.tng-project.org/api/TNG100-1/snapshots/99/subhalos/31342/lhalotree/full.hdf5',\n",
       "  'lhalotree_mpb': 'http://www.tng-project.org/api/TNG100-1/snapshots/99/subhalos/31342/lhalotree/mpb.hdf5'},\n",
       " 'supplementary_data': {'skirt_images': {'fits_sdss': 'http://www.tng-project.org/api/TNG100-1/snapshots/99/subhalos/31342/skirt/broadband_sdss.fits',\n",
       "   'image_g_sdss': 'http://www.tng-project.org/api/TNG100-1/snapshots/99/subhalos/31342/skirt/image_g_sdss.png',\n",
       "   'image_i_sdss': 'http://www.tng-project.org/api/TNG100-1/snapshots/99/subhalos/31342/skirt/image_i_sdss.png',\n",
       "   'fits_pogs': 'http://www.tng-project.org/api/TNG100-1/snapshots/99/subhalos/31342/skirt/broadband_pogs.fits',\n",
       "   'image_g_pogs': 'http://www.tng-project.org/api/TNG100-1/snapshots/99/subhalos/31342/skirt/image_g_pogs.png',\n",
       "   'image_i_pogs': 'http://www.tng-project.org/api/TNG100-1/snapshots/99/subhalos/31342/skirt/image_i_pogs.png'},\n",
       "  'tracer_tracks': {'TracerIDs': 'http://www.tng-project.org/api/TNG100-1/snapshots/99/subhalos/31342/cutout.hdf5?tracer_tracks=TracerIDs',\n",
       "   'ParentIDs': 'http://www.tng-project.org/api/TNG100-1/snapshots/99/subhalos/31342/cutout.hdf5?tracer_tracks=ParentIDs',\n",
       "   'parent_indextype': 'http://www.tng-project.org/api/TNG100-1/snapshots/99/subhalos/31342/cutout.hdf5?tracer_tracks=parent_indextype',\n",
       "   'subhalo_id': 'http://www.tng-project.org/api/TNG100-1/snapshots/99/subhalos/31342/cutout.hdf5?tracer_tracks=subhalo_id',\n",
       "   'angmom': 'http://www.tng-project.org/api/TNG100-1/snapshots/99/subhalos/31342/cutout.hdf5?tracer_tracks=angmom',\n",
       "   'entr': 'http://www.tng-project.org/api/TNG100-1/snapshots/99/subhalos/31342/cutout.hdf5?tracer_tracks=entr',\n",
       "   'pos': 'http://www.tng-project.org/api/TNG100-1/snapshots/99/subhalos/31342/cutout.hdf5?tracer_tracks=pos',\n",
       "   'rad_rvir': 'http://www.tng-project.org/api/TNG100-1/snapshots/99/subhalos/31342/cutout.hdf5?tracer_tracks=rad_rvir',\n",
       "   'sfr': 'http://www.tng-project.org/api/TNG100-1/snapshots/99/subhalos/31342/cutout.hdf5?tracer_tracks=sfr',\n",
       "   'temp': 'http://www.tng-project.org/api/TNG100-1/snapshots/99/subhalos/31342/cutout.hdf5?tracer_tracks=temp',\n",
       "   'vel': 'http://www.tng-project.org/api/TNG100-1/snapshots/99/subhalos/31342/cutout.hdf5?tracer_tracks=vel'}},\n",
       " 'vis': {'mergertree_sublink': 'http://www.tng-project.org/api/TNG100-1/snapshots/99/subhalos/31342/sublink/tree.png',\n",
       "  'halo_gas_dens': 'http://www.tng-project.org/api/TNG100-1/snapshots/99/subhalos/31342/vis.png?partType=gas',\n",
       "  'halo_gas_temp': 'http://www.tng-project.org/api/TNG100-1/snapshots/99/subhalos/31342/vis.png?partType=gas&partField=temp',\n",
       "  'halo_dm_dens': 'http://www.tng-project.org/api/TNG100-1/snapshots/99/subhalos/31342/vis.png?partType=dm',\n",
       "  'halo_stellar_dens': 'http://www.tng-project.org/api/TNG100-1/snapshots/99/subhalos/31342/vis.png?partType=stars',\n",
       "  'galaxy_gas_dens': 'http://www.tng-project.org/api/TNG100-1/snapshots/99/subhalos/31342/vis.png?partType=gas&size=5.0&sizeType=rHalfMassStars',\n",
       "  'galaxy_gas_dens_faceon': 'http://www.tng-project.org/api/TNG100-1/snapshots/99/subhalos/31342/vis.png?partType=gas&size=5.0&sizeType=rHalfMassStars&rotation=face-on',\n",
       "  'galaxy_stellar_light': 'http://www.tng-project.org/api/TNG100-1/snapshots/99/subhalos/31342/vis.png?partType=stars&partField=stellarComp-jwst_f200w-jwst_f115w-jwst_f070w&size=5.0&sizeType=rHalfMassStars',\n",
       "  'galaxy_stellar_light_faceon': 'http://www.tng-project.org/api/TNG100-1/snapshots/99/subhalos/31342/vis.png?partType=stars&partField=stellarComp-jwst_f200w-jwst_f115w-jwst_f070w&size=5.0&sizeType=rHalfMassStars&rotation=face-on'},\n",
       " 'meta': {'url': 'http://www.tng-project.org/api/TNG100-1/snapshots/99/subhalos/31342/',\n",
       "  'snapshot': 'http://www.tng-project.org/api/TNG100-1/snapshots/99/',\n",
       "  'simulation': 'http://www.tng-project.org/api/TNG100-1/',\n",
       "  'info': 'http://www.tng-project.org/api/TNG100-1/snapshots/99/subhalos/31342/info.json'}}"
      ]
     },
     "execution_count": 38,
     "metadata": {},
     "output_type": "execute_result"
    }
   ],
   "source": [
    "sub"
   ]
  },
  {
   "cell_type": "code",
   "execution_count": 39,
   "metadata": {},
   "outputs": [],
   "source": [
    "url = sub['related']['parent_halo']+\"info.json\""
   ]
  },
  {
   "cell_type": "code",
   "execution_count": 40,
   "metadata": {},
   "outputs": [],
   "source": [
    "parent_fof = get(url)"
   ]
  },
  {
   "cell_type": "code",
   "execution_count": 41,
   "metadata": {},
   "outputs": [
    {
     "data": {
      "text/plain": [
       "dict_keys(['SimulationName', 'SnapshotNumber', 'InfoType', 'InfoID', 'GroupBHMass', 'GroupBHMdot', 'GroupCM', 'GroupFirstSub', 'GroupGasMetalFractions', 'GroupGasMetallicity', 'GroupLen', 'GroupLenType', 'GroupMass', 'GroupMassType', 'GroupNsubs', 'GroupPos', 'GroupSFR', 'GroupStarMetalFractions', 'GroupStarMetallicity', 'GroupVel', 'GroupWindMass', 'Group_M_Crit200', 'Group_M_Crit500', 'Group_M_Mean200', 'Group_M_TopHat200', 'Group_R_Crit200', 'Group_R_Crit500', 'Group_R_Mean200', 'Group_R_TopHat200', 'StellarMasses', 'TracerLength', 'TracerOffset'])"
      ]
     },
     "execution_count": 41,
     "metadata": {},
     "output_type": "execute_result"
    }
   ],
   "source": [
    "parent_fof.keys()"
   ]
  },
  {
   "cell_type": "code",
   "execution_count": 43,
   "metadata": {},
   "outputs": [
    {
     "data": {
      "text/plain": [
       "[10977.3251953125, 50824.2734375, 47600.640625]"
      ]
     },
     "execution_count": 43,
     "metadata": {},
     "output_type": "execute_result"
    }
   ],
   "source": [
    "parent_fof[\"GroupCM\"]"
   ]
  },
  {
   "cell_type": "code",
   "execution_count": 45,
   "metadata": {},
   "outputs": [
    {
     "name": "stdout",
     "output_type": "stream",
     "text": [
      "<KeysViewHDF5 ['DescendantID', 'FirstProgenitorID', 'FirstSubhaloInFOFGroupID', 'GroupBHMass', 'GroupBHMdot', 'GroupCM', 'GroupFirstSub', 'GroupGasMetalFractions', 'GroupGasMetallicity', 'GroupLen', 'GroupLenType', 'GroupMass', 'GroupMassType', 'GroupNsubs', 'GroupPos', 'GroupSFR', 'GroupStarMetalFractions', 'GroupStarMetallicity', 'GroupVel', 'GroupWindMass', 'Group_M_Crit200', 'Group_M_Crit500', 'Group_M_Mean200', 'Group_M_TopHat200', 'Group_R_Crit200', 'Group_R_Crit500', 'Group_R_Mean200', 'Group_R_TopHat200', 'LastProgenitorID', 'MainLeafProgenitorID', 'Mass', 'MassHistory', 'NextProgenitorID', 'NextSubhaloInFOFGroupID', 'NumParticles', 'RootDescendantID', 'SnapNum', 'SubfindID', 'SubhaloBHMass', 'SubhaloBHMdot', 'SubhaloBfldDisk', 'SubhaloBfldHalo', 'SubhaloCM', 'SubhaloGasMetalFractions', 'SubhaloGasMetalFractionsHalfRad', 'SubhaloGasMetalFractionsMaxRad', 'SubhaloGasMetalFractionsSfr', 'SubhaloGasMetalFractionsSfrWeighted', 'SubhaloGasMetallicity', 'SubhaloGasMetallicityHalfRad', 'SubhaloGasMetallicityMaxRad', 'SubhaloGasMetallicitySfr', 'SubhaloGasMetallicitySfrWeighted', 'SubhaloGrNr', 'SubhaloHalfmassRad', 'SubhaloHalfmassRadType', 'SubhaloID', 'SubhaloIDMostbound', 'SubhaloIDRaw', 'SubhaloLen', 'SubhaloLenType', 'SubhaloMass', 'SubhaloMassInHalfRad', 'SubhaloMassInHalfRadType', 'SubhaloMassInMaxRad', 'SubhaloMassInMaxRadType', 'SubhaloMassInRad', 'SubhaloMassInRadType', 'SubhaloMassType', 'SubhaloParent', 'SubhaloPos', 'SubhaloSFR', 'SubhaloSFRinHalfRad', 'SubhaloSFRinMaxRad', 'SubhaloSFRinRad', 'SubhaloSpin', 'SubhaloStarMetalFractions', 'SubhaloStarMetalFractionsHalfRad', 'SubhaloStarMetalFractionsMaxRad', 'SubhaloStarMetallicity', 'SubhaloStarMetallicityHalfRad', 'SubhaloStarMetallicityMaxRad', 'SubhaloStellarPhotometrics', 'SubhaloStellarPhotometricsMassInRad', 'SubhaloStellarPhotometricsRad', 'SubhaloVel', 'SubhaloVelDisp', 'SubhaloVmax', 'SubhaloVmaxRad', 'SubhaloWindMass', 'TreeID']>\n"
     ]
    }
   ],
   "source": [
    "import h5py\n",
    "mpb1 = get(sub['trees']['sublink_mpb'])\n",
    "\n",
    "f = h5py.File(mpb1,'r')\n",
    "print(f.keys())"
   ]
  },
  {
   "cell_type": "code",
   "execution_count": 46,
   "metadata": {},
   "outputs": [
    {
     "name": "stdout",
     "output_type": "stream",
     "text": [
      "99\n"
     ]
    }
   ],
   "source": [
    "print(len(f['SnapNum']))"
   ]
  },
  {
   "cell_type": "code",
   "execution_count": 50,
   "metadata": {},
   "outputs": [
    {
     "name": "stdout",
     "output_type": "stream",
     "text": [
      "[99 98 97 96 95 94 93 92 91 90 89 88 87 86 85 84 83 82 81 80 79 78 77 76\n",
      " 75 74 73 72 71 70 69 68 67 66 65 64 63 62 61 60 59 58 57 56 55 54 53 52\n",
      " 51 50 49 48 47 46 45 44 43 42 41 40 39 38 37 36 35 34 33 32 31 30 29 28\n",
      " 27 26 25 24 23 22 21 20 19 18 17 16 15 14 13 12 11 10  9  8  7  6  5  4\n",
      "  3  2  1]\n"
     ]
    }
   ],
   "source": [
    "print(f[\"SnapNum\"][:])"
   ]
  },
  {
   "cell_type": "code",
   "execution_count": 53,
   "metadata": {},
   "outputs": [
    {
     "name": "stdout",
     "output_type": "stream",
     "text": [
      "99\n"
     ]
    }
   ],
   "source": [
    "#mpb2 = get(sub['trees']['lhalotree_mpb'])\n",
    "\n",
    "with h5py.File(\"lhalotree_mpb_31342.hdf5\",'r') as f:\n",
    "    print(len(f['SnapNum']))"
   ]
  },
  {
   "cell_type": "code",
   "execution_count": 54,
   "metadata": {},
   "outputs": [
    {
     "data": {
      "image/png": "[encoded data removed]",
      "text/plain": [
       "<Figure size 640x480 with 1 Axes>"
      ]
     },
     "metadata": {},
     "output_type": "display_data"
    }
   ],
   "source": [
    "import matplotlib.pyplot as plt\n",
    "with h5py.File(\"lhalotree_mpb_31342.hdf5\",'r') as f:\n",
    "    pos = f['SubhaloPos'][:]\n",
    "    snapnum = f['SnapNum'][:]\n",
    "    subid = f['SubhaloNumber'][:]\n",
    "\n",
    "for i in range(3):\n",
    "    plt.plot(snapnum,pos[:,i]-pos[0,i],label=['x','y','z'][i])\n",
    "\n",
    "plt.legend()\n",
    "plt.xlabel(\"Snapshot Number\")\n",
    "plt.ylabel('Pos$_{x,y,z}$(z)-Pos(z=0)')\n",
    "\n",
    "plt.show()"
   ]
  },
  {
   "cell_type": "code",
   "execution_count": 55,
   "metadata": {},
   "outputs": [
    {
     "data": {
      "text/plain": [
       "'http://www.tng-project.org/api/TNG100-1/snapshots/z=1/'"
      ]
     },
     "execution_count": 55,
     "metadata": {},
     "output_type": "execute_result"
    }
   ],
   "source": [
    "url = sim['snapshots'] + \"z=1/\"\n",
    "url"
   ]
  },
  {
   "cell_type": "code",
   "execution_count": 56,
   "metadata": {},
   "outputs": [
    {
     "data": {
      "text/plain": [
       "(50, 0.99729422578194)"
      ]
     },
     "execution_count": 56,
     "metadata": {},
     "output_type": "execute_result"
    }
   ],
   "source": [
    "snap = get(url)\n",
    "snap['number'],snap['redshift']"
   ]
  },
  {
   "cell_type": "code",
   "execution_count": 57,
   "metadata": {},
   "outputs": [
    {
     "data": {
      "text/plain": [
       "array([25376])"
      ]
     },
     "execution_count": 57,
     "metadata": {},
     "output_type": "execute_result"
    }
   ],
   "source": [
    "i = np.where(snapnum==85)\n",
    "subid[i]"
   ]
  },
  {
   "cell_type": "code",
   "execution_count": 58,
   "metadata": {},
   "outputs": [
    {
     "data": {
      "text/plain": [
       "(10743.8, 51038.4)"
      ]
     },
     "execution_count": 58,
     "metadata": {},
     "output_type": "execute_result"
    }
   ],
   "source": [
    "sub_prog_url = \"http://www.tng-project.org/api/TNG100-1/snapshots/85/subhalos/25376/\"\n",
    "sub_prog = get(sub_prog_url)\n",
    "sub_prog['pos_x'],sub_prog['pos_y']"
   ]
  },
  {
   "cell_type": "code",
   "execution_count": 59,
   "metadata": {},
   "outputs": [],
   "source": [
    "cutout_request = {'gas':'Coordinates,Masses'}\n",
    "cutout = get(sub_prog_url+\"cutout.hdf5\",cutout_request)"
   ]
  },
  {
   "cell_type": "code",
   "execution_count": 63,
   "metadata": {},
   "outputs": [],
   "source": [
    "with h5py.File(cutout,'r') as f:\n",
    "    x = f['PartType0']['Coordinates'][:,0]-sub_prog['pos_x']\n",
    "    y = f['PartType0']['Coordinates'][:,1]-sub_prog['pos_y']\n",
    "    dens = np.log10(f['PartType0']['Masses'][:])"
   ]
  },
  {
   "cell_type": "code",
   "execution_count": 67,
   "metadata": {},
   "outputs": [
    {
     "data": {
      "image/png": "[encoded data removed]",
      "text/plain": [
       "<Figure size 640x480 with 1 Axes>"
      ]
     },
     "metadata": {},
     "output_type": "display_data"
    }
   ],
   "source": [
    "plt.hist2d(x,y,weights=dens,bins=[150,100],cmap=\"Reds\")\n",
    "plt.xlabel('$\\Delta x$ [ckpc/h]')\n",
    "plt.ylabel('$\\Delta y$ [ckpc/h]')\n",
    "plt.show()"
   ]
  },
  {
   "cell_type": "code",
   "execution_count": 71,
   "metadata": {},
   "outputs": [
    {
     "name": "stdout",
     "output_type": "stream",
     "text": [
      "dict_keys(['id', 'sfr', 'mass_log_msun', 'url'])\n"
     ]
    }
   ],
   "source": [
    "galaxyzoo_id = 587732591714893000\n",
    "\n",
    "snapshot_num = 99\n",
    "endpoint = \"https://www.tng-project.org/api/TNG100-1/snapshots/{}/subhalos/\".format(snapshot_num)\n",
    "\n",
    "response = requests.get(endpoint,headers=headers)\n",
    "\n",
    "if response.status_code == 200:\n",
    "    halo_data = response.json()\n",
    "    halo = halo_data[\"results\"][0]\n",
    "    print(halo.keys())\n",
    "    #for halo in halo_data:\n",
    "    # if halo[\"galaxy_id\"] == galaxyzoo_id:\n",
    "    #     halo_id = halo[\"id\"]\n",
    "    #     halo_info = halo\n",
    "    #     print(\"Halo ID: {}\".format(halo_id))\n",
    "    #     print(\"Halo info: {}\".format(halo_info))\n",
    "\n",
    "else:\n",
    "    print(\"Request failed with status code:\", response.status_code)"
   ]
  },
  {
   "cell_type": "code",
   "execution_count": 72,
   "metadata": {},
   "outputs": [
    {
     "name": "stdout",
     "output_type": "stream",
     "text": [
      "{'id': 0, 'sfr': 2.22719, 'mass_log_msun': 14.60813834636778, 'url': 'http://www.tng-project.org/api/TNG100-1/snapshots/99/subhalos/0/'}\n"
     ]
    }
   ],
   "source": [
    "print(halo)"
   ]
  },
  {
   "cell_type": "code",
   "execution_count": 80,
   "metadata": {},
   "outputs": [],
   "source": [
    "# import requests\n",
    "\n",
    "# galaxyzoo_id = \"587732591714893000\"\n",
    "# url = \"https://api.illustristng.org/api/tng100-1/subhalos/?search={}&limit=1\".format(galaxyzoo_id)\n",
    "\n",
    "# response = requests.get(url, headers=headers)\n",
    "# if response.status_code == 200:\n",
    "#     halo = response.json()\n",
    "#     halo_id = halo[0][\"id\"]\n",
    "# else:\n",
    "#     raise Exception(\"Request failed with status code: {}\".format(response.status_code))\n"
   ]
  },
  {
   "attachments": {},
   "cell_type": "markdown",
   "metadata": {},
   "source": [
    "---"
   ]
  },
  {
   "cell_type": "code",
   "execution_count": 8,
   "metadata": {},
   "outputs": [],
   "source": [
    "import requests\n",
    "\n",
    "baseUrl = \"https://www.tng-project.org/api/TNG100-1/snapshots/99/subhalos/\"\n",
    "\n",
    "headers = {\"api-key\":\"5484c6c24f106178fd66213717ad592d\"}"
   ]
  },
  {
   "cell_type": "code",
   "execution_count": 9,
   "metadata": {},
   "outputs": [],
   "source": [
    "def get(path,params=None):\n",
    "    r = requests.get(path,params=params,headers=headers)\n",
    "\n",
    "    r.raise_for_status()\n",
    "\n",
    "    if r.headers['content-type']=='application/json':\n",
    "        return r.json()\n",
    "\n",
    "    if 'content-disposition' in r.headers:\n",
    "        filename = r.headers['content-disposition'].split('filename=')[1]\n",
    "        with open(filename,'wb') as f:\n",
    "            f.write(r.content)\n",
    "        return filename\n",
    "    return r"
   ]
  },
  {
   "cell_type": "code",
   "execution_count": 13,
   "metadata": {},
   "outputs": [],
   "source": [
    "r = get(baseUrl)"
   ]
  },
  {
   "cell_type": "code",
   "execution_count": 14,
   "metadata": {},
   "outputs": [
    {
     "data": {
      "text/plain": [
       "dict_keys(['count', 'next', 'previous', 'results'])"
      ]
     },
     "execution_count": 14,
     "metadata": {},
     "output_type": "execute_result"
    }
   ],
   "source": [
    "r.keys()"
   ]
  },
  {
   "cell_type": "code",
   "execution_count": 15,
   "metadata": {},
   "outputs": [
    {
     "data": {
      "text/plain": [
       "[{'id': 0,\n",
       "  'sfr': 2.22719,\n",
       "  'mass_log_msun': 14.60813834636778,\n",
       "  'url': 'http://www.tng-project.org/api/TNG100-1/snapshots/99/subhalos/0/'},\n",
       " {'id': 1,\n",
       "  'sfr': 0.413285,\n",
       "  'mass_log_msun': 13.733420710710462,\n",
       "  'url': 'http://www.tng-project.org/api/TNG100-1/snapshots/99/subhalos/1/'},\n",
       " {'id': 2,\n",
       "  'sfr': 17.3922,\n",
       "  'mass_log_msun': 13.057590420489898,\n",
       "  'url': 'http://www.tng-project.org/api/TNG100-1/snapshots/99/subhalos/2/'},\n",
       " {'id': 3,\n",
       "  'sfr': 5.07938,\n",
       "  'mass_log_msun': 12.699524859399856,\n",
       "  'url': 'http://www.tng-project.org/api/TNG100-1/snapshots/99/subhalos/3/'},\n",
       " {'id': 4,\n",
       "  'sfr': 1.41469,\n",
       "  'mass_log_msun': 12.681528310672475,\n",
       "  'url': 'http://www.tng-project.org/api/TNG100-1/snapshots/99/subhalos/4/'},\n",
       " {'id': 5,\n",
       "  'sfr': 0.886559,\n",
       "  'mass_log_msun': 12.643397303528015,\n",
       "  'url': 'http://www.tng-project.org/api/TNG100-1/snapshots/99/subhalos/5/'},\n",
       " {'id': 6,\n",
       "  'sfr': 2.18434,\n",
       "  'mass_log_msun': 12.484770439405152,\n",
       "  'url': 'http://www.tng-project.org/api/TNG100-1/snapshots/99/subhalos/6/'},\n",
       " {'id': 7,\n",
       "  'sfr': 0.0,\n",
       "  'mass_log_msun': 12.308485959888634,\n",
       "  'url': 'http://www.tng-project.org/api/TNG100-1/snapshots/99/subhalos/7/'},\n",
       " {'id': 8,\n",
       "  'sfr': 0.0,\n",
       "  'mass_log_msun': 12.243038048686294,\n",
       "  'url': 'http://www.tng-project.org/api/TNG100-1/snapshots/99/subhalos/8/'},\n",
       " {'id': 9,\n",
       "  'sfr': 0.0,\n",
       "  'mass_log_msun': 12.280050772757297,\n",
       "  'url': 'http://www.tng-project.org/api/TNG100-1/snapshots/99/subhalos/9/'},\n",
       " {'id': 10,\n",
       "  'sfr': 1.46034,\n",
       "  'mass_log_msun': 12.184225216548326,\n",
       "  'url': 'http://www.tng-project.org/api/TNG100-1/snapshots/99/subhalos/10/'},\n",
       " {'id': 11,\n",
       "  'sfr': 0.0,\n",
       "  'mass_log_msun': 11.834850219762073,\n",
       "  'url': 'http://www.tng-project.org/api/TNG100-1/snapshots/99/subhalos/11/'},\n",
       " {'id': 12,\n",
       "  'sfr': 0.0,\n",
       "  'mass_log_msun': 12.234054354688745,\n",
       "  'url': 'http://www.tng-project.org/api/TNG100-1/snapshots/99/subhalos/12/'},\n",
       " {'id': 13,\n",
       "  'sfr': 0.0,\n",
       "  'mass_log_msun': 12.184795338441598,\n",
       "  'url': 'http://www.tng-project.org/api/TNG100-1/snapshots/99/subhalos/13/'},\n",
       " {'id': 14,\n",
       "  'sfr': 0.0,\n",
       "  'mass_log_msun': 11.981579475233266,\n",
       "  'url': 'http://www.tng-project.org/api/TNG100-1/snapshots/99/subhalos/14/'},\n",
       " {'id': 15,\n",
       "  'sfr': 0.0130215,\n",
       "  'mass_log_msun': 12.180835185343653,\n",
       "  'url': 'http://www.tng-project.org/api/TNG100-1/snapshots/99/subhalos/15/'},\n",
       " {'id': 16,\n",
       "  'sfr': 0.0,\n",
       "  'mass_log_msun': 12.124228436564442,\n",
       "  'url': 'http://www.tng-project.org/api/TNG100-1/snapshots/99/subhalos/16/'},\n",
       " {'id': 17,\n",
       "  'sfr': 0.0583733,\n",
       "  'mass_log_msun': 12.037178213669224,\n",
       "  'url': 'http://www.tng-project.org/api/TNG100-1/snapshots/99/subhalos/17/'},\n",
       " {'id': 18,\n",
       "  'sfr': 0.0174699,\n",
       "  'mass_log_msun': 11.986655391811608,\n",
       "  'url': 'http://www.tng-project.org/api/TNG100-1/snapshots/99/subhalos/18/'},\n",
       " {'id': 19,\n",
       "  'sfr': 0.0,\n",
       "  'mass_log_msun': 11.745509981374218,\n",
       "  'url': 'http://www.tng-project.org/api/TNG100-1/snapshots/99/subhalos/19/'},\n",
       " {'id': 20,\n",
       "  'sfr': 0.461354,\n",
       "  'mass_log_msun': 11.977140807794953,\n",
       "  'url': 'http://www.tng-project.org/api/TNG100-1/snapshots/99/subhalos/20/'},\n",
       " {'id': 21,\n",
       "  'sfr': 0.0,\n",
       "  'mass_log_msun': 11.618048096712092,\n",
       "  'url': 'http://www.tng-project.org/api/TNG100-1/snapshots/99/subhalos/21/'},\n",
       " {'id': 22,\n",
       "  'sfr': 0.0,\n",
       "  'mass_log_msun': 11.92711308114244,\n",
       "  'url': 'http://www.tng-project.org/api/TNG100-1/snapshots/99/subhalos/22/'},\n",
       " {'id': 23,\n",
       "  'sfr': 0.0,\n",
       "  'mass_log_msun': 11.47558412454911,\n",
       "  'url': 'http://www.tng-project.org/api/TNG100-1/snapshots/99/subhalos/23/'},\n",
       " {'id': 24,\n",
       "  'sfr': 3.59624,\n",
       "  'mass_log_msun': 11.776951770184006,\n",
       "  'url': 'http://www.tng-project.org/api/TNG100-1/snapshots/99/subhalos/24/'},\n",
       " {'id': 25,\n",
       "  'sfr': 0.0,\n",
       "  'mass_log_msun': 11.702037800314399,\n",
       "  'url': 'http://www.tng-project.org/api/TNG100-1/snapshots/99/subhalos/25/'},\n",
       " {'id': 26,\n",
       "  'sfr': 0.0,\n",
       "  'mass_log_msun': 11.764976077571669,\n",
       "  'url': 'http://www.tng-project.org/api/TNG100-1/snapshots/99/subhalos/26/'},\n",
       " {'id': 27,\n",
       "  'sfr': 0.0,\n",
       "  'mass_log_msun': 11.774395189790603,\n",
       "  'url': 'http://www.tng-project.org/api/TNG100-1/snapshots/99/subhalos/27/'},\n",
       " {'id': 28,\n",
       "  'sfr': 0.0,\n",
       "  'mass_log_msun': 11.746044152003856,\n",
       "  'url': 'http://www.tng-project.org/api/TNG100-1/snapshots/99/subhalos/28/'},\n",
       " {'id': 29,\n",
       "  'sfr': 0.0594346,\n",
       "  'mass_log_msun': 11.781194430198651,\n",
       "  'url': 'http://www.tng-project.org/api/TNG100-1/snapshots/99/subhalos/29/'},\n",
       " {'id': 30,\n",
       "  'sfr': 0.0,\n",
       "  'mass_log_msun': 11.652870448595188,\n",
       "  'url': 'http://www.tng-project.org/api/TNG100-1/snapshots/99/subhalos/30/'},\n",
       " {'id': 31,\n",
       "  'sfr': 0.0,\n",
       "  'mass_log_msun': 11.318050389083647,\n",
       "  'url': 'http://www.tng-project.org/api/TNG100-1/snapshots/99/subhalos/31/'},\n",
       " {'id': 32,\n",
       "  'sfr': 0.451621,\n",
       "  'mass_log_msun': 11.606123253616671,\n",
       "  'url': 'http://www.tng-project.org/api/TNG100-1/snapshots/99/subhalos/32/'},\n",
       " {'id': 33,\n",
       "  'sfr': 0.0,\n",
       "  'mass_log_msun': 11.615997861341013,\n",
       "  'url': 'http://www.tng-project.org/api/TNG100-1/snapshots/99/subhalos/33/'},\n",
       " {'id': 34,\n",
       "  'sfr': 0.0,\n",
       "  'mass_log_msun': 11.473022313870555,\n",
       "  'url': 'http://www.tng-project.org/api/TNG100-1/snapshots/99/subhalos/34/'},\n",
       " {'id': 35,\n",
       "  'sfr': 0.0,\n",
       "  'mass_log_msun': 11.55805668975849,\n",
       "  'url': 'http://www.tng-project.org/api/TNG100-1/snapshots/99/subhalos/35/'},\n",
       " {'id': 36,\n",
       "  'sfr': 0.423125,\n",
       "  'mass_log_msun': 11.652275468850101,\n",
       "  'url': 'http://www.tng-project.org/api/TNG100-1/snapshots/99/subhalos/36/'},\n",
       " {'id': 37,\n",
       "  'sfr': 2.25176,\n",
       "  'mass_log_msun': 11.629080787942826,\n",
       "  'url': 'http://www.tng-project.org/api/TNG100-1/snapshots/99/subhalos/37/'},\n",
       " {'id': 38,\n",
       "  'sfr': 0.122134,\n",
       "  'mass_log_msun': 11.675951977357332,\n",
       "  'url': 'http://www.tng-project.org/api/TNG100-1/snapshots/99/subhalos/38/'},\n",
       " {'id': 39,\n",
       "  'sfr': 0.0,\n",
       "  'mass_log_msun': 11.651045832269354,\n",
       "  'url': 'http://www.tng-project.org/api/TNG100-1/snapshots/99/subhalos/39/'},\n",
       " {'id': 40,\n",
       "  'sfr': 0.0,\n",
       "  'mass_log_msun': 11.623989000686889,\n",
       "  'url': 'http://www.tng-project.org/api/TNG100-1/snapshots/99/subhalos/40/'},\n",
       " {'id': 41,\n",
       "  'sfr': 7.76206,\n",
       "  'mass_log_msun': 11.364063027243779,\n",
       "  'url': 'http://www.tng-project.org/api/TNG100-1/snapshots/99/subhalos/41/'},\n",
       " {'id': 42,\n",
       "  'sfr': 2.26305,\n",
       "  'mass_log_msun': 11.576477715531027,\n",
       "  'url': 'http://www.tng-project.org/api/TNG100-1/snapshots/99/subhalos/42/'},\n",
       " {'id': 43,\n",
       "  'sfr': 1.85494,\n",
       "  'mass_log_msun': 11.523011436784445,\n",
       "  'url': 'http://www.tng-project.org/api/TNG100-1/snapshots/99/subhalos/43/'},\n",
       " {'id': 44,\n",
       "  'sfr': 0.0,\n",
       "  'mass_log_msun': 11.558891304328982,\n",
       "  'url': 'http://www.tng-project.org/api/TNG100-1/snapshots/99/subhalos/44/'},\n",
       " {'id': 45,\n",
       "  'sfr': 0.0,\n",
       "  'mass_log_msun': 11.312709796641409,\n",
       "  'url': 'http://www.tng-project.org/api/TNG100-1/snapshots/99/subhalos/45/'},\n",
       " {'id': 46,\n",
       "  'sfr': 0.0,\n",
       "  'mass_log_msun': 11.523660847778329,\n",
       "  'url': 'http://www.tng-project.org/api/TNG100-1/snapshots/99/subhalos/46/'},\n",
       " {'id': 47,\n",
       "  'sfr': 0.0,\n",
       "  'mass_log_msun': 11.471321166910887,\n",
       "  'url': 'http://www.tng-project.org/api/TNG100-1/snapshots/99/subhalos/47/'},\n",
       " {'id': 48,\n",
       "  'sfr': 1.77751,\n",
       "  'mass_log_msun': 11.514432453447869,\n",
       "  'url': 'http://www.tng-project.org/api/TNG100-1/snapshots/99/subhalos/48/'},\n",
       " {'id': 49,\n",
       "  'sfr': 0.0,\n",
       "  'mass_log_msun': 11.444337121892111,\n",
       "  'url': 'http://www.tng-project.org/api/TNG100-1/snapshots/99/subhalos/49/'},\n",
       " {'id': 50,\n",
       "  'sfr': 0.339025,\n",
       "  'mass_log_msun': 11.469500250319234,\n",
       "  'url': 'http://www.tng-project.org/api/TNG100-1/snapshots/99/subhalos/50/'},\n",
       " {'id': 51,\n",
       "  'sfr': 2.09386,\n",
       "  'mass_log_msun': 11.506574132021061,\n",
       "  'url': 'http://www.tng-project.org/api/TNG100-1/snapshots/99/subhalos/51/'},\n",
       " {'id': 52,\n",
       "  'sfr': 0.544267,\n",
       "  'mass_log_msun': 11.410312640018079,\n",
       "  'url': 'http://www.tng-project.org/api/TNG100-1/snapshots/99/subhalos/52/'},\n",
       " {'id': 53,\n",
       "  'sfr': 0.0,\n",
       "  'mass_log_msun': 11.193837464121739,\n",
       "  'url': 'http://www.tng-project.org/api/TNG100-1/snapshots/99/subhalos/53/'},\n",
       " {'id': 54,\n",
       "  'sfr': 2.09911,\n",
       "  'mass_log_msun': 11.387201653733433,\n",
       "  'url': 'http://www.tng-project.org/api/TNG100-1/snapshots/99/subhalos/54/'},\n",
       " {'id': 55,\n",
       "  'sfr': 0.0,\n",
       "  'mass_log_msun': 11.183044868019827,\n",
       "  'url': 'http://www.tng-project.org/api/TNG100-1/snapshots/99/subhalos/55/'},\n",
       " {'id': 56,\n",
       "  'sfr': 0.0,\n",
       "  'mass_log_msun': 11.479705809531328,\n",
       "  'url': 'http://www.tng-project.org/api/TNG100-1/snapshots/99/subhalos/56/'},\n",
       " {'id': 57,\n",
       "  'sfr': 0.0,\n",
       "  'mass_log_msun': 11.215189289780612,\n",
       "  'url': 'http://www.tng-project.org/api/TNG100-1/snapshots/99/subhalos/57/'},\n",
       " {'id': 58,\n",
       "  'sfr': 0.0,\n",
       "  'mass_log_msun': 11.144794292575995,\n",
       "  'url': 'http://www.tng-project.org/api/TNG100-1/snapshots/99/subhalos/58/'},\n",
       " {'id': 59,\n",
       "  'sfr': 0.0,\n",
       "  'mass_log_msun': 11.28180001981642,\n",
       "  'url': 'http://www.tng-project.org/api/TNG100-1/snapshots/99/subhalos/59/'},\n",
       " {'id': 60,\n",
       "  'sfr': 0.0,\n",
       "  'mass_log_msun': 10.922146916128188,\n",
       "  'url': 'http://www.tng-project.org/api/TNG100-1/snapshots/99/subhalos/60/'},\n",
       " {'id': 61,\n",
       "  'sfr': 0.261129,\n",
       "  'mass_log_msun': 11.435210021690644,\n",
       "  'url': 'http://www.tng-project.org/api/TNG100-1/snapshots/99/subhalos/61/'},\n",
       " {'id': 62,\n",
       "  'sfr': 0.435451,\n",
       "  'mass_log_msun': 11.472620864798474,\n",
       "  'url': 'http://www.tng-project.org/api/TNG100-1/snapshots/99/subhalos/62/'},\n",
       " {'id': 63,\n",
       "  'sfr': 0.0,\n",
       "  'mass_log_msun': 10.852994025786884,\n",
       "  'url': 'http://www.tng-project.org/api/TNG100-1/snapshots/99/subhalos/63/'},\n",
       " {'id': 64,\n",
       "  'sfr': 0.796911,\n",
       "  'mass_log_msun': 11.336962293521935,\n",
       "  'url': 'http://www.tng-project.org/api/TNG100-1/snapshots/99/subhalos/64/'},\n",
       " {'id': 65,\n",
       "  'sfr': 0.0,\n",
       "  'mass_log_msun': 11.460956404759449,\n",
       "  'url': 'http://www.tng-project.org/api/TNG100-1/snapshots/99/subhalos/65/'},\n",
       " {'id': 66,\n",
       "  'sfr': 0.0,\n",
       "  'mass_log_msun': 11.140916182281126,\n",
       "  'url': 'http://www.tng-project.org/api/TNG100-1/snapshots/99/subhalos/66/'},\n",
       " {'id': 67,\n",
       "  'sfr': 0.0,\n",
       "  'mass_log_msun': 11.210752747184765,\n",
       "  'url': 'http://www.tng-project.org/api/TNG100-1/snapshots/99/subhalos/67/'},\n",
       " {'id': 68,\n",
       "  'sfr': 0.0,\n",
       "  'mass_log_msun': 11.223679768895616,\n",
       "  'url': 'http://www.tng-project.org/api/TNG100-1/snapshots/99/subhalos/68/'},\n",
       " {'id': 69,\n",
       "  'sfr': 0.684369,\n",
       "  'mass_log_msun': 11.423915508950103,\n",
       "  'url': 'http://www.tng-project.org/api/TNG100-1/snapshots/99/subhalos/69/'},\n",
       " {'id': 70,\n",
       "  'sfr': 0.0,\n",
       "  'mass_log_msun': 11.366752354012657,\n",
       "  'url': 'http://www.tng-project.org/api/TNG100-1/snapshots/99/subhalos/70/'},\n",
       " {'id': 71,\n",
       "  'sfr': 0.0820501,\n",
       "  'mass_log_msun': 11.325473727989857,\n",
       "  'url': 'http://www.tng-project.org/api/TNG100-1/snapshots/99/subhalos/71/'},\n",
       " {'id': 72,\n",
       "  'sfr': 4.531,\n",
       "  'mass_log_msun': 11.21069354915816,\n",
       "  'url': 'http://www.tng-project.org/api/TNG100-1/snapshots/99/subhalos/72/'},\n",
       " {'id': 73,\n",
       "  'sfr': 0.0531124,\n",
       "  'mass_log_msun': 11.309081097449218,\n",
       "  'url': 'http://www.tng-project.org/api/TNG100-1/snapshots/99/subhalos/73/'},\n",
       " {'id': 74,\n",
       "  'sfr': 0.0,\n",
       "  'mass_log_msun': 11.137193427894305,\n",
       "  'url': 'http://www.tng-project.org/api/TNG100-1/snapshots/99/subhalos/74/'},\n",
       " {'id': 75,\n",
       "  'sfr': 0.0,\n",
       "  'mass_log_msun': 11.392100068351263,\n",
       "  'url': 'http://www.tng-project.org/api/TNG100-1/snapshots/99/subhalos/75/'},\n",
       " {'id': 76,\n",
       "  'sfr': 0.0,\n",
       "  'mass_log_msun': 11.370278704898768,\n",
       "  'url': 'http://www.tng-project.org/api/TNG100-1/snapshots/99/subhalos/76/'},\n",
       " {'id': 77,\n",
       "  'sfr': 0.0,\n",
       "  'mass_log_msun': 11.397026093292348,\n",
       "  'url': 'http://www.tng-project.org/api/TNG100-1/snapshots/99/subhalos/77/'},\n",
       " {'id': 78,\n",
       "  'sfr': 0.0,\n",
       "  'mass_log_msun': 11.353306583414785,\n",
       "  'url': 'http://www.tng-project.org/api/TNG100-1/snapshots/99/subhalos/78/'},\n",
       " {'id': 79,\n",
       "  'sfr': 0.0,\n",
       "  'mass_log_msun': 11.238552773785472,\n",
       "  'url': 'http://www.tng-project.org/api/TNG100-1/snapshots/99/subhalos/79/'},\n",
       " {'id': 80,\n",
       "  'sfr': 0.0,\n",
       "  'mass_log_msun': 10.888081448766522,\n",
       "  'url': 'http://www.tng-project.org/api/TNG100-1/snapshots/99/subhalos/80/'},\n",
       " {'id': 81,\n",
       "  'sfr': 0.0,\n",
       "  'mass_log_msun': 10.867975389023401,\n",
       "  'url': 'http://www.tng-project.org/api/TNG100-1/snapshots/99/subhalos/81/'},\n",
       " {'id': 82,\n",
       "  'sfr': 2.32241,\n",
       "  'mass_log_msun': 11.082815570772699,\n",
       "  'url': 'http://www.tng-project.org/api/TNG100-1/snapshots/99/subhalos/82/'},\n",
       " {'id': 83,\n",
       "  'sfr': 0.0,\n",
       "  'mass_log_msun': 11.261190846635847,\n",
       "  'url': 'http://www.tng-project.org/api/TNG100-1/snapshots/99/subhalos/83/'},\n",
       " {'id': 84,\n",
       "  'sfr': 0.33644,\n",
       "  'mass_log_msun': 11.351478140253471,\n",
       "  'url': 'http://www.tng-project.org/api/TNG100-1/snapshots/99/subhalos/84/'},\n",
       " {'id': 85,\n",
       "  'sfr': 0.0,\n",
       "  'mass_log_msun': 11.269725220144208,\n",
       "  'url': 'http://www.tng-project.org/api/TNG100-1/snapshots/99/subhalos/85/'},\n",
       " {'id': 86,\n",
       "  'sfr': 0.16981,\n",
       "  'mass_log_msun': 11.319106366801128,\n",
       "  'url': 'http://www.tng-project.org/api/TNG100-1/snapshots/99/subhalos/86/'},\n",
       " {'id': 87,\n",
       "  'sfr': 0.0,\n",
       "  'mass_log_msun': 10.711370051768203,\n",
       "  'url': 'http://www.tng-project.org/api/TNG100-1/snapshots/99/subhalos/87/'},\n",
       " {'id': 88,\n",
       "  'sfr': 0.434909,\n",
       "  'mass_log_msun': 11.32336264498492,\n",
       "  'url': 'http://www.tng-project.org/api/TNG100-1/snapshots/99/subhalos/88/'},\n",
       " {'id': 89,\n",
       "  'sfr': 0.0,\n",
       "  'mass_log_msun': 10.515421697227007,\n",
       "  'url': 'http://www.tng-project.org/api/TNG100-1/snapshots/99/subhalos/89/'},\n",
       " {'id': 90,\n",
       "  'sfr': 0.0,\n",
       "  'mass_log_msun': 11.125053161398757,\n",
       "  'url': 'http://www.tng-project.org/api/TNG100-1/snapshots/99/subhalos/90/'},\n",
       " {'id': 91,\n",
       "  'sfr': 0.0,\n",
       "  'mass_log_msun': 11.186880795158242,\n",
       "  'url': 'http://www.tng-project.org/api/TNG100-1/snapshots/99/subhalos/91/'},\n",
       " {'id': 92,\n",
       "  'sfr': 0.0,\n",
       "  'mass_log_msun': 10.640198489264083,\n",
       "  'url': 'http://www.tng-project.org/api/TNG100-1/snapshots/99/subhalos/92/'},\n",
       " {'id': 93,\n",
       "  'sfr': 0.0,\n",
       "  'mass_log_msun': 10.887698014123046,\n",
       "  'url': 'http://www.tng-project.org/api/TNG100-1/snapshots/99/subhalos/93/'},\n",
       " {'id': 94,\n",
       "  'sfr': 0.0,\n",
       "  'mass_log_msun': 11.303261759245109,\n",
       "  'url': 'http://www.tng-project.org/api/TNG100-1/snapshots/99/subhalos/94/'},\n",
       " {'id': 95,\n",
       "  'sfr': 0.110451,\n",
       "  'mass_log_msun': 11.185410732617662,\n",
       "  'url': 'http://www.tng-project.org/api/TNG100-1/snapshots/99/subhalos/95/'},\n",
       " {'id': 96,\n",
       "  'sfr': 0.0,\n",
       "  'mass_log_msun': 10.615858142934322,\n",
       "  'url': 'http://www.tng-project.org/api/TNG100-1/snapshots/99/subhalos/96/'},\n",
       " {'id': 97,\n",
       "  'sfr': 0.475516,\n",
       "  'mass_log_msun': 11.1660108893718,\n",
       "  'url': 'http://www.tng-project.org/api/TNG100-1/snapshots/99/subhalos/97/'},\n",
       " {'id': 98,\n",
       "  'sfr': 0.594885,\n",
       "  'mass_log_msun': 11.186150562187562,\n",
       "  'url': 'http://www.tng-project.org/api/TNG100-1/snapshots/99/subhalos/98/'},\n",
       " {'id': 99,\n",
       "  'sfr': 0.0,\n",
       "  'mass_log_msun': 11.223104808331811,\n",
       "  'url': 'http://www.tng-project.org/api/TNG100-1/snapshots/99/subhalos/99/'}]"
      ]
     },
     "execution_count": 15,
     "metadata": {},
     "output_type": "execute_result"
    }
   ],
   "source": [
    "r['results']"
   ]
  },
  {
   "cell_type": "code",
   "execution_count": 16,
   "metadata": {},
   "outputs": [],
   "source": [
    "newUrl = r['results'][0]['url']"
   ]
  },
  {
   "cell_type": "code",
   "execution_count": 17,
   "metadata": {},
   "outputs": [],
   "source": [
    "r = get(newUrl)"
   ]
  },
  {
   "cell_type": "code",
   "execution_count": 18,
   "metadata": {},
   "outputs": [
    {
     "data": {
      "text/plain": [
       "{'snap': 99,\n",
       " 'id': 0,\n",
       " 'bhmdot': 0.00039801,\n",
       " 'cm_x': 832.387,\n",
       " 'cm_y': 26368.5,\n",
       " 'cm_z': 18060.8,\n",
       " 'gasmetallicity': 0.0077182,\n",
       " 'gasmetallicityhalfrad': 0.00799488,\n",
       " 'gasmetallicitymaxrad': 0.0056164,\n",
       " 'gasmetallicitysfr': 0.00668848,\n",
       " 'gasmetallicitysfrweighted': 0.00668008,\n",
       " 'pos_x': 849.091,\n",
       " 'pos_y': 26327.0,\n",
       " 'pos_z': 18306.9,\n",
       " 'halfmassrad': 607.966,\n",
       " 'halfmassrad_gas': 627.311,\n",
       " 'halfmassrad_dm': 610.31,\n",
       " 'halfmassrad_stars': 47.3881,\n",
       " 'halfmassrad_bhs': 0.0,\n",
       " 'len': 88772413,\n",
       " 'len_gas': 38648183,\n",
       " 'len_dm': 46136876,\n",
       " 'len_stars': 3987343,\n",
       " 'len_bhs': 11,\n",
       " 'mass': 27477.9,\n",
       " 'mass_gas': 3900.6,\n",
       " 'mass_dm': 23325.6,\n",
       " 'mass_stars': 251.016,\n",
       " 'mass_bhs': 0.701811,\n",
       " 'massinhalfrad': 555.356,\n",
       " 'massinhalfrad_gas': 13.5311,\n",
       " 'massinhalfrad_dm': 415.619,\n",
       " 'massinhalfrad_stars': 125.508,\n",
       " 'massinhalfrad_bhs': 0.697652,\n",
       " 'massinmaxrad': 7611.22,\n",
       " 'massinmaxrad_gas': 870.236,\n",
       " 'massinmaxrad_dm': 6518.97,\n",
       " 'massinmaxrad_stars': 221.317,\n",
       " 'massinmaxrad_bhs': 0.6981,\n",
       " 'massinrad': 1549.87,\n",
       " 'massinrad_gas': 80.1219,\n",
       " 'massinrad_dm': 1305.21,\n",
       " 'massinrad_stars': 163.834,\n",
       " 'massinrad_bhs': 0.6981,\n",
       " 'sfr': 2.22719,\n",
       " 'sfrinhalfrad': 0.0,\n",
       " 'sfrinmaxrad': 0.903495,\n",
       " 'sfrinrad': 0.195825,\n",
       " 'spin_x': 17997.8,\n",
       " 'spin_y': -3810.16,\n",
       " 'spin_z': -24480.9,\n",
       " 'starmetallicity': 0.0286223,\n",
       " 'starmetallicityhalfrad': 0.0325776,\n",
       " 'starmetallicitymaxrad': 0.0239841,\n",
       " 'stellarphotometrics_u': -24.1033,\n",
       " 'stellarphotometrics_b': -24.5116,\n",
       " 'stellarphotometrics_v': -25.376,\n",
       " 'stellarphotometrics_k': -28.3093,\n",
       " 'stellarphotometrics_g': -24.9662,\n",
       " 'stellarphotometrics_r': -25.7158,\n",
       " 'stellarphotometrics_i': -26.0726,\n",
       " 'stellarphotometrics_z': -26.3286,\n",
       " 'stellarphotometricsmassinrad': 139.712,\n",
       " 'stellarphotometricsrad': 39.7723,\n",
       " 'vel_x': 15.8496,\n",
       " 'vel_y': -236.392,\n",
       " 'vel_z': -89.5239,\n",
       " 'veldisp': 603.875,\n",
       " 'vmax': 999.385,\n",
       " 'vmaxrad': 327.828,\n",
       " 'windmass': 0.03918,\n",
       " 'prog_snap': 98,\n",
       " 'prog_sfid': 0,\n",
       " 'desc_snap': -1,\n",
       " 'desc_sfid': -1,\n",
       " 'parent': 0,\n",
       " 'grnr': 0,\n",
       " 'primary_flag': 1,\n",
       " 'mass_log_msun': 14.60813834636778,\n",
       " 'related': {'sublink_progenitor': 'http://www.tng-project.org/api/TNG100-1/snapshots/98/subhalos/0/',\n",
       "  'sublink_descendant': None,\n",
       "  'parent_halo': 'http://www.tng-project.org/api/TNG100-1/snapshots/99/halos/0/'},\n",
       " 'cutouts': {'subhalo': 'http://www.tng-project.org/api/TNG100-1/snapshots/99/subhalos/0/cutout.hdf5',\n",
       "  'parent_halo': 'http://www.tng-project.org/api/TNG100-1/snapshots/99/halos/0/cutout.hdf5'},\n",
       " 'trees': {'sublink': 'http://www.tng-project.org/api/TNG100-1/snapshots/99/subhalos/0/sublink/full.hdf5',\n",
       "  'sublink_mpb': 'http://www.tng-project.org/api/TNG100-1/snapshots/99/subhalos/0/sublink/mpb.hdf5',\n",
       "  'sublink_mdb': 'http://www.tng-project.org/api/TNG100-1/snapshots/99/subhalos/0/sublink/mdb.hdf5',\n",
       "  'sublink_simple': 'http://www.tng-project.org/api/TNG100-1/snapshots/99/subhalos/0/sublink/simple.json',\n",
       "  'lhalotree': 'http://www.tng-project.org/api/TNG100-1/snapshots/99/subhalos/0/lhalotree/full.hdf5',\n",
       "  'lhalotree_mpb': 'http://www.tng-project.org/api/TNG100-1/snapshots/99/subhalos/0/lhalotree/mpb.hdf5'},\n",
       " 'supplementary_data': {'skirt_images': {'fits_sdss': 'http://www.tng-project.org/api/TNG100-1/snapshots/99/subhalos/0/skirt/broadband_sdss.fits',\n",
       "   'image_g_sdss': 'http://www.tng-project.org/api/TNG100-1/snapshots/99/subhalos/0/skirt/image_g_sdss.png',\n",
       "   'image_i_sdss': 'http://www.tng-project.org/api/TNG100-1/snapshots/99/subhalos/0/skirt/image_i_sdss.png',\n",
       "   'fits_pogs': 'http://www.tng-project.org/api/TNG100-1/snapshots/99/subhalos/0/skirt/broadband_pogs.fits',\n",
       "   'image_g_pogs': 'http://www.tng-project.org/api/TNG100-1/snapshots/99/subhalos/0/skirt/image_g_pogs.png',\n",
       "   'image_i_pogs': 'http://www.tng-project.org/api/TNG100-1/snapshots/99/subhalos/0/skirt/image_i_pogs.png',\n",
       "   'image_r_sdss': 'http://www.tng-project.org/api/TNG100-1/snapshots/99/subhalos/0/skirt/image_r_sdss.png'},\n",
       "  'tracer_tracks': {'TracerIDs': 'http://www.tng-project.org/api/TNG100-1/snapshots/99/subhalos/0/cutout.hdf5?tracer_tracks=TracerIDs',\n",
       "   'ParentIDs': 'http://www.tng-project.org/api/TNG100-1/snapshots/99/subhalos/0/cutout.hdf5?tracer_tracks=ParentIDs',\n",
       "   'parent_indextype': 'http://www.tng-project.org/api/TNG100-1/snapshots/99/subhalos/0/cutout.hdf5?tracer_tracks=parent_indextype',\n",
       "   'subhalo_id': 'http://www.tng-project.org/api/TNG100-1/snapshots/99/subhalos/0/cutout.hdf5?tracer_tracks=subhalo_id',\n",
       "   'angmom': 'http://www.tng-project.org/api/TNG100-1/snapshots/99/subhalos/0/cutout.hdf5?tracer_tracks=angmom',\n",
       "   'entr': 'http://www.tng-project.org/api/TNG100-1/snapshots/99/subhalos/0/cutout.hdf5?tracer_tracks=entr',\n",
       "   'pos': 'http://www.tng-project.org/api/TNG100-1/snapshots/99/subhalos/0/cutout.hdf5?tracer_tracks=pos',\n",
       "   'rad_rvir': 'http://www.tng-project.org/api/TNG100-1/snapshots/99/subhalos/0/cutout.hdf5?tracer_tracks=rad_rvir',\n",
       "   'sfr': 'http://www.tng-project.org/api/TNG100-1/snapshots/99/subhalos/0/cutout.hdf5?tracer_tracks=sfr',\n",
       "   'temp': 'http://www.tng-project.org/api/TNG100-1/snapshots/99/subhalos/0/cutout.hdf5?tracer_tracks=temp',\n",
       "   'vel': 'http://www.tng-project.org/api/TNG100-1/snapshots/99/subhalos/0/cutout.hdf5?tracer_tracks=vel'}},\n",
       " 'vis': {'mergertree_sublink': 'http://www.tng-project.org/api/TNG100-1/snapshots/99/subhalos/0/sublink/tree.png',\n",
       "  'halo_gas_dens': 'http://www.tng-project.org/api/TNG100-1/snapshots/99/subhalos/0/vis.png?partType=gas',\n",
       "  'halo_gas_temp': 'http://www.tng-project.org/api/TNG100-1/snapshots/99/subhalos/0/vis.png?partType=gas&partField=temp',\n",
       "  'halo_dm_dens': 'http://www.tng-project.org/api/TNG100-1/snapshots/99/subhalos/0/vis.png?partType=dm',\n",
       "  'halo_stellar_dens': 'http://www.tng-project.org/api/TNG100-1/snapshots/99/subhalos/0/vis.png?partType=stars',\n",
       "  'galaxy_gas_dens': 'http://www.tng-project.org/api/TNG100-1/snapshots/99/subhalos/0/vis.png?partType=gas&size=5.0&sizeType=rHalfMassStars',\n",
       "  'galaxy_gas_dens_faceon': 'http://www.tng-project.org/api/TNG100-1/snapshots/99/subhalos/0/vis.png?partType=gas&size=5.0&sizeType=rHalfMassStars&rotation=face-on',\n",
       "  'galaxy_stellar_light': 'http://www.tng-project.org/api/TNG100-1/snapshots/99/subhalos/0/vis.png?partType=stars&partField=stellarComp-jwst_f200w-jwst_f115w-jwst_f070w&size=5.0&sizeType=rHalfMassStars',\n",
       "  'galaxy_stellar_light_faceon': 'http://www.tng-project.org/api/TNG100-1/snapshots/99/subhalos/0/vis.png?partType=stars&partField=stellarComp-jwst_f200w-jwst_f115w-jwst_f070w&size=5.0&sizeType=rHalfMassStars&rotation=face-on'},\n",
       " 'meta': {'url': 'http://www.tng-project.org/api/TNG100-1/snapshots/99/subhalos/0/',\n",
       "  'snapshot': 'http://www.tng-project.org/api/TNG100-1/snapshots/99/',\n",
       "  'simulation': 'http://www.tng-project.org/api/TNG100-1/',\n",
       "  'info': 'http://www.tng-project.org/api/TNG100-1/snapshots/99/subhalos/0/info.json'}}"
      ]
     },
     "execution_count": 18,
     "metadata": {},
     "output_type": "execute_result"
    }
   ],
   "source": [
    "r"
   ]
  },
  {
   "cell_type": "code",
   "execution_count": null,
   "metadata": {},
   "outputs": [],
   "source": []
  }
 ],
 "metadata": {
  "kernelspec": {
   "display_name": "Python 3",
   "language": "python",
   "name": "python3"
  },
  "language_info": {
   "codemirror_mode": {
    "name": "ipython",
    "version": 3
   },
   "file_extension": ".py",
   "mimetype": "text/x-python",
   "name": "python",
   "nbconvert_exporter": "python",
   "pygments_lexer": "ipython3",
   "version": "3.9.13"
  },
  "orig_nbformat": 4,
  "vscode": {
   "interpreter": {
    "hash": "11938c6bc6919ae2720b4d5011047913343b08a43b18698fd82dedb0d4417594"
   }
  }
 },
 "nbformat": 4,
 "nbformat_minor": 2
}
